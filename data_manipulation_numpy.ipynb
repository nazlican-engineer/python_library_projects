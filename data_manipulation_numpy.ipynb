{
  "nbformat": 4,
  "nbformat_minor": 0,
  "metadata": {
    "colab": {
      "provenance": []
    },
    "kernelspec": {
      "name": "python3",
      "display_name": "Python 3"
    },
    "language_info": {
      "name": "python"
    }
  },
  "cells": [
    {
      "cell_type": "markdown",
      "source": [
        "**NUMPY ARRAY'İ OLUŞTURMAK**"
      ],
      "metadata": {
        "id": "dRT0OSbfH6AC"
      }
    },
    {
      "cell_type": "code",
      "source": [
        "import numpy as np\n",
        "a=np.array([1,2,3,4,5])"
      ],
      "metadata": {
        "id": "28T0Uhh1HMTg"
      },
      "execution_count": 1,
      "outputs": []
    },
    {
      "cell_type": "code",
      "source": [
        "a"
      ],
      "metadata": {
        "colab": {
          "base_uri": "https://localhost:8080/"
        },
        "id": "j_OwqiT8Ia3z",
        "outputId": "4df19e61-5ab9-40f0-e80e-094eba90eed4"
      },
      "execution_count": 2,
      "outputs": [
        {
          "output_type": "execute_result",
          "data": {
            "text/plain": [
              "array([1, 2, 3, 4, 5])"
            ]
          },
          "metadata": {},
          "execution_count": 2
        }
      ]
    },
    {
      "cell_type": "code",
      "source": [
        "type(a)"
      ],
      "metadata": {
        "colab": {
          "base_uri": "https://localhost:8080/"
        },
        "id": "2lhKQr6gIgOm",
        "outputId": "624286d9-1cd5-4874-d532-ccf0d57fd71c"
      },
      "execution_count": 3,
      "outputs": [
        {
          "output_type": "execute_result",
          "data": {
            "text/plain": [
              "numpy.ndarray"
            ]
          },
          "metadata": {},
          "execution_count": 3
        }
      ]
    },
    {
      "cell_type": "code",
      "source": [
        "a=np.array([1,2,3,4,5],dtype=\"float32\")#hepsini tek tip yapar yerden tasarruf etmek için"
      ],
      "metadata": {
        "id": "8J8BeAG9Iiru"
      },
      "execution_count": 4,
      "outputs": []
    },
    {
      "cell_type": "code",
      "source": [
        "a"
      ],
      "metadata": {
        "colab": {
          "base_uri": "https://localhost:8080/"
        },
        "id": "Snsg2NgDIuBj",
        "outputId": "c3dc144d-0616-454b-bcc1-c9d3f5924b2c"
      },
      "execution_count": 5,
      "outputs": [
        {
          "output_type": "execute_result",
          "data": {
            "text/plain": [
              "array([1., 2., 3., 4., 5.], dtype=float32)"
            ]
          },
          "metadata": {},
          "execution_count": 5
        }
      ]
    },
    {
      "cell_type": "code",
      "source": [
        "np.zeros(10,dtype=\"int\")"
      ],
      "metadata": {
        "colab": {
          "base_uri": "https://localhost:8080/"
        },
        "id": "bQNAzbs3IvnC",
        "outputId": "22218fbe-7555-4871-d730-6a56be84ca9b"
      },
      "execution_count": 6,
      "outputs": [
        {
          "output_type": "execute_result",
          "data": {
            "text/plain": [
              "array([0, 0, 0, 0, 0, 0, 0, 0, 0, 0])"
            ]
          },
          "metadata": {},
          "execution_count": 6
        }
      ]
    },
    {
      "cell_type": "code",
      "source": [
        "np.ones((3,5),dtype=\"float\")"
      ],
      "metadata": {
        "colab": {
          "base_uri": "https://localhost:8080/"
        },
        "id": "t-j7pMJdJAYq",
        "outputId": "26a42dae-c12d-43e6-e53f-710b52ba39c5"
      },
      "execution_count": 7,
      "outputs": [
        {
          "output_type": "execute_result",
          "data": {
            "text/plain": [
              "array([[1., 1., 1., 1., 1.],\n",
              "       [1., 1., 1., 1., 1.],\n",
              "       [1., 1., 1., 1., 1.]])"
            ]
          },
          "metadata": {},
          "execution_count": 7
        }
      ]
    },
    {
      "cell_type": "code",
      "source": [
        "np.full((3,5),3)"
      ],
      "metadata": {
        "colab": {
          "base_uri": "https://localhost:8080/"
        },
        "id": "X60-40tpJKC6",
        "outputId": "c5a91a7b-261b-4c00-ff71-f5e771aaad48"
      },
      "execution_count": 8,
      "outputs": [
        {
          "output_type": "execute_result",
          "data": {
            "text/plain": [
              "array([[3, 3, 3, 3, 3],\n",
              "       [3, 3, 3, 3, 3],\n",
              "       [3, 3, 3, 3, 3]])"
            ]
          },
          "metadata": {},
          "execution_count": 8
        }
      ]
    },
    {
      "cell_type": "code",
      "source": [
        "np.arange(0,31,3)"
      ],
      "metadata": {
        "colab": {
          "base_uri": "https://localhost:8080/"
        },
        "id": "UbyT7h90JTPy",
        "outputId": "09234a63-248a-4f3b-dbcf-682df8edd57f"
      },
      "execution_count": 9,
      "outputs": [
        {
          "output_type": "execute_result",
          "data": {
            "text/plain": [
              "array([ 0,  3,  6,  9, 12, 15, 18, 21, 24, 27, 30])"
            ]
          },
          "metadata": {},
          "execution_count": 9
        }
      ]
    },
    {
      "cell_type": "code",
      "source": [
        "np.linspace(0,1,5)"
      ],
      "metadata": {
        "colab": {
          "base_uri": "https://localhost:8080/"
        },
        "id": "GrdEqjS1Jaw-",
        "outputId": "6230a0c7-eaee-4d9c-94b2-967972180354"
      },
      "execution_count": 10,
      "outputs": [
        {
          "output_type": "execute_result",
          "data": {
            "text/plain": [
              "array([0.  , 0.25, 0.5 , 0.75, 1.  ])"
            ]
          },
          "metadata": {},
          "execution_count": 10
        }
      ]
    },
    {
      "cell_type": "code",
      "source": [
        "np.random.normal(10,4,(3,4))#standart sapması 10,ortalaması 4 3'e dörtlük matris"
      ],
      "metadata": {
        "colab": {
          "base_uri": "https://localhost:8080/"
        },
        "id": "o4JAtoJcJlOu",
        "outputId": "69f7545b-69c1-4c20-8300-26ad9fb42684"
      },
      "execution_count": 11,
      "outputs": [
        {
          "output_type": "execute_result",
          "data": {
            "text/plain": [
              "array([[10.43144295,  8.28992101, 10.30225146,  7.78573338],\n",
              "       [ 8.08090142,  2.47350218,  4.34183821,  5.20965094],\n",
              "       [15.02867364,  9.14241543, 11.84940235,  3.52956762]])"
            ]
          },
          "metadata": {},
          "execution_count": 11
        }
      ]
    },
    {
      "cell_type": "code",
      "source": [
        "np.random.randint(0,10,(3,3))"
      ],
      "metadata": {
        "colab": {
          "base_uri": "https://localhost:8080/"
        },
        "id": "KpA9IbU1J_rn",
        "outputId": "11a1a150-58bc-45f6-ced9-303e1a8ae04b"
      },
      "execution_count": 12,
      "outputs": [
        {
          "output_type": "execute_result",
          "data": {
            "text/plain": [
              "array([[0, 0, 2],\n",
              "       [7, 2, 8],\n",
              "       [9, 0, 4]])"
            ]
          },
          "metadata": {},
          "execution_count": 12
        }
      ]
    },
    {
      "cell_type": "code",
      "source": [
        "a=np.random.randint(10,size=10)"
      ],
      "metadata": {
        "id": "wUvRyuQiKG3F"
      },
      "execution_count": 13,
      "outputs": []
    },
    {
      "cell_type": "code",
      "source": [
        "a.ndim #boyutunu ayarlamak için"
      ],
      "metadata": {
        "colab": {
          "base_uri": "https://localhost:8080/"
        },
        "id": "d8XtaZvKK3Zo",
        "outputId": "940c4e58-3e29-4291-be90-a8630043cac6"
      },
      "execution_count": 14,
      "outputs": [
        {
          "output_type": "execute_result",
          "data": {
            "text/plain": [
              "1"
            ]
          },
          "metadata": {},
          "execution_count": 14
        }
      ]
    },
    {
      "cell_type": "code",
      "source": [
        "a.shape"
      ],
      "metadata": {
        "colab": {
          "base_uri": "https://localhost:8080/"
        },
        "id": "8YCoOxQ6K97j",
        "outputId": "a0684356-f6dd-4960-c47e-a02a3f8216d1"
      },
      "execution_count": 15,
      "outputs": [
        {
          "output_type": "execute_result",
          "data": {
            "text/plain": [
              "(10,)"
            ]
          },
          "metadata": {},
          "execution_count": 15
        }
      ]
    },
    {
      "cell_type": "code",
      "source": [
        "b=np.random.randint(10,size=(3,5))"
      ],
      "metadata": {
        "id": "pF2NWp6uLIca"
      },
      "execution_count": 16,
      "outputs": []
    },
    {
      "cell_type": "code",
      "source": [
        "b"
      ],
      "metadata": {
        "colab": {
          "base_uri": "https://localhost:8080/"
        },
        "id": "uCKMMiw4LOoL",
        "outputId": "96377147-6a22-4837-95af-8bc5a39fca44"
      },
      "execution_count": 17,
      "outputs": [
        {
          "output_type": "execute_result",
          "data": {
            "text/plain": [
              "array([[6, 5, 0, 7, 2],\n",
              "       [8, 9, 1, 1, 6],\n",
              "       [6, 7, 3, 1, 0]])"
            ]
          },
          "metadata": {},
          "execution_count": 17
        }
      ]
    },
    {
      "cell_type": "code",
      "source": [
        "b.ndim"
      ],
      "metadata": {
        "colab": {
          "base_uri": "https://localhost:8080/"
        },
        "id": "lJ8i3LTOLP0S",
        "outputId": "fbed27a5-82f8-4014-d51c-e4fba04f08c8"
      },
      "execution_count": 18,
      "outputs": [
        {
          "output_type": "execute_result",
          "data": {
            "text/plain": [
              "2"
            ]
          },
          "metadata": {},
          "execution_count": 18
        }
      ]
    },
    {
      "cell_type": "code",
      "source": [
        "b.shape"
      ],
      "metadata": {
        "colab": {
          "base_uri": "https://localhost:8080/"
        },
        "id": "XVm2ACgYLWmG",
        "outputId": "65255c9e-bb47-494b-d0f5-6756dbf4dc3f"
      },
      "execution_count": 19,
      "outputs": [
        {
          "output_type": "execute_result",
          "data": {
            "text/plain": [
              "(3, 5)"
            ]
          },
          "metadata": {},
          "execution_count": 19
        }
      ]
    },
    {
      "cell_type": "code",
      "source": [
        "b.size"
      ],
      "metadata": {
        "colab": {
          "base_uri": "https://localhost:8080/"
        },
        "id": "7jCWSsXULZjb",
        "outputId": "3ee737fc-493e-4ee3-d85d-4c3c724b1f7b"
      },
      "execution_count": 20,
      "outputs": [
        {
          "output_type": "execute_result",
          "data": {
            "text/plain": [
              "15"
            ]
          },
          "metadata": {},
          "execution_count": 20
        }
      ]
    },
    {
      "cell_type": "code",
      "source": [
        "b.dtype"
      ],
      "metadata": {
        "colab": {
          "base_uri": "https://localhost:8080/"
        },
        "id": "Ds_v6kRrLfUH",
        "outputId": "429422ce-b606-40a5-8ac4-cb1ef4be18db"
      },
      "execution_count": 21,
      "outputs": [
        {
          "output_type": "execute_result",
          "data": {
            "text/plain": [
              "dtype('int64')"
            ]
          },
          "metadata": {},
          "execution_count": 21
        }
      ]
    },
    {
      "cell_type": "code",
      "source": [
        "np.arange(1,10)"
      ],
      "metadata": {
        "colab": {
          "base_uri": "https://localhost:8080/"
        },
        "id": "UH0TRUrhLhI_",
        "outputId": "e719963d-545d-410a-ee12-6559b702f3aa"
      },
      "execution_count": 22,
      "outputs": [
        {
          "output_type": "execute_result",
          "data": {
            "text/plain": [
              "array([1, 2, 3, 4, 5, 6, 7, 8, 9])"
            ]
          },
          "metadata": {},
          "execution_count": 22
        }
      ]
    },
    {
      "cell_type": "code",
      "source": [
        "np.arange(1,10).reshape((3,3))#tek boyutluyu istediğim boyuta getirmek için re shape kullanılır."
      ],
      "metadata": {
        "colab": {
          "base_uri": "https://localhost:8080/"
        },
        "id": "px4FZ8dmLw3S",
        "outputId": "c99780af-dc1b-4a1c-b045-e9b0e267ac31"
      },
      "execution_count": 23,
      "outputs": [
        {
          "output_type": "execute_result",
          "data": {
            "text/plain": [
              "array([[1, 2, 3],\n",
              "       [4, 5, 6],\n",
              "       [7, 8, 9]])"
            ]
          },
          "metadata": {},
          "execution_count": 23
        }
      ]
    },
    {
      "cell_type": "code",
      "source": [
        "c=np.arange(1,10)"
      ],
      "metadata": {
        "id": "TMGa2sxIMN5_"
      },
      "execution_count": 24,
      "outputs": []
    },
    {
      "cell_type": "code",
      "source": [
        "c"
      ],
      "metadata": {
        "colab": {
          "base_uri": "https://localhost:8080/"
        },
        "id": "G1pHMCpyNDQz",
        "outputId": "c1eee89e-2592-47c5-b226-740656ca11de"
      },
      "execution_count": 25,
      "outputs": [
        {
          "output_type": "execute_result",
          "data": {
            "text/plain": [
              "array([1, 2, 3, 4, 5, 6, 7, 8, 9])"
            ]
          },
          "metadata": {},
          "execution_count": 25
        }
      ]
    },
    {
      "cell_type": "code",
      "source": [
        "c=c.reshape((1,9))"
      ],
      "metadata": {
        "id": "nzCdDvM-MVz3"
      },
      "execution_count": 26,
      "outputs": []
    },
    {
      "cell_type": "code",
      "source": [
        "c"
      ],
      "metadata": {
        "colab": {
          "base_uri": "https://localhost:8080/"
        },
        "id": "IbakufXXMsl-",
        "outputId": "366e8e2c-b1b6-490e-8518-c23cc3245f6f"
      },
      "execution_count": 27,
      "outputs": [
        {
          "output_type": "execute_result",
          "data": {
            "text/plain": [
              "array([[1, 2, 3, 4, 5, 6, 7, 8, 9]])"
            ]
          },
          "metadata": {},
          "execution_count": 27
        }
      ]
    },
    {
      "cell_type": "code",
      "source": [
        "c.ndim"
      ],
      "metadata": {
        "colab": {
          "base_uri": "https://localhost:8080/"
        },
        "id": "PmDcYYP0MkHH",
        "outputId": "b686ad7e-d4c6-4b95-8691-448981489141"
      },
      "execution_count": 28,
      "outputs": [
        {
          "output_type": "execute_result",
          "data": {
            "text/plain": [
              "2"
            ]
          },
          "metadata": {},
          "execution_count": 28
        }
      ]
    },
    {
      "cell_type": "code",
      "source": [
        "x=np.array([1,2,3])\n",
        "y=np.array([4,5,6])\n"
      ],
      "metadata": {
        "id": "rOZGiYvkO7gI"
      },
      "execution_count": 29,
      "outputs": []
    },
    {
      "cell_type": "code",
      "source": [
        "np.concatenate([x,y])"
      ],
      "metadata": {
        "colab": {
          "base_uri": "https://localhost:8080/"
        },
        "id": "5G8TFtsYPKFM",
        "outputId": "716bdcb7-886b-4207-9e09-e59cd4f8a739"
      },
      "execution_count": 30,
      "outputs": [
        {
          "output_type": "execute_result",
          "data": {
            "text/plain": [
              "array([1, 2, 3, 4, 5, 6])"
            ]
          },
          "metadata": {},
          "execution_count": 30
        }
      ]
    },
    {
      "cell_type": "code",
      "source": [
        "z=np.array([7,8,9])\n"
      ],
      "metadata": {
        "id": "ZELtcqYdPU4v"
      },
      "execution_count": 31,
      "outputs": []
    },
    {
      "cell_type": "code",
      "source": [
        "np.concatenate([x,y,z]) #birleştirmek için concatenate kullanırız"
      ],
      "metadata": {
        "colab": {
          "base_uri": "https://localhost:8080/"
        },
        "id": "ksV2jNK-PatT",
        "outputId": "c90eee8b-57fd-4ed9-b1dc-54d6292a4cb8"
      },
      "execution_count": 32,
      "outputs": [
        {
          "output_type": "execute_result",
          "data": {
            "text/plain": [
              "array([1, 2, 3, 4, 5, 6, 7, 8, 9])"
            ]
          },
          "metadata": {},
          "execution_count": 32
        }
      ]
    },
    {
      "cell_type": "code",
      "source": [
        "a=np.random.randint(3,size=(3,3))"
      ],
      "metadata": {
        "id": "YYmly10dPeMI"
      },
      "execution_count": 33,
      "outputs": []
    },
    {
      "cell_type": "code",
      "source": [
        "np.concatenate([a,a])"
      ],
      "metadata": {
        "colab": {
          "base_uri": "https://localhost:8080/"
        },
        "id": "JOmcCWXAP5-s",
        "outputId": "6c662663-c199-4fd8-f4fd-5087da93b491"
      },
      "execution_count": 34,
      "outputs": [
        {
          "output_type": "execute_result",
          "data": {
            "text/plain": [
              "array([[1, 1, 0],\n",
              "       [2, 0, 0],\n",
              "       [1, 1, 2],\n",
              "       [1, 1, 0],\n",
              "       [2, 0, 0],\n",
              "       [1, 1, 2]])"
            ]
          },
          "metadata": {},
          "execution_count": 34
        }
      ]
    },
    {
      "cell_type": "code",
      "source": [
        "np.concatenate([a,a],axis=0)#ssatır bazında birleştirme yapar"
      ],
      "metadata": {
        "colab": {
          "base_uri": "https://localhost:8080/"
        },
        "id": "rBTUnmX2QAPI",
        "outputId": "4f6ea5d6-64d4-418c-96d4-3378ce7670c7"
      },
      "execution_count": 35,
      "outputs": [
        {
          "output_type": "execute_result",
          "data": {
            "text/plain": [
              "array([[1, 1, 0],\n",
              "       [2, 0, 0],\n",
              "       [1, 1, 2],\n",
              "       [1, 1, 0],\n",
              "       [2, 0, 0],\n",
              "       [1, 1, 2]])"
            ]
          },
          "metadata": {},
          "execution_count": 35
        }
      ]
    },
    {
      "cell_type": "code",
      "source": [
        "np.concatenate([a,a],axis=1)"
      ],
      "metadata": {
        "colab": {
          "base_uri": "https://localhost:8080/"
        },
        "id": "wYlKzUK9QMhT",
        "outputId": "680e0e5c-4a8d-4e02-ae84-d8fdfd0fe38e"
      },
      "execution_count": 36,
      "outputs": [
        {
          "output_type": "execute_result",
          "data": {
            "text/plain": [
              "array([[1, 1, 0, 1, 1, 0],\n",
              "       [2, 0, 0, 2, 0, 0],\n",
              "       [1, 1, 2, 1, 1, 2]])"
            ]
          },
          "metadata": {},
          "execution_count": 36
        }
      ]
    },
    {
      "cell_type": "code",
      "source": [
        "a=np.array([1,2,3,4,5,6,7,99,99])"
      ],
      "metadata": {
        "id": "i4SHUERcQPTY"
      },
      "execution_count": 37,
      "outputs": []
    },
    {
      "cell_type": "code",
      "source": [
        "np.split(a,[3,5])#numpy arrayini bölmek istersem kullanılır."
      ],
      "metadata": {
        "colab": {
          "base_uri": "https://localhost:8080/"
        },
        "id": "qPR1HQ9RQjMM",
        "outputId": "b2bf4474-b764-40dd-a89a-7c9cd3ef98a7"
      },
      "execution_count": 38,
      "outputs": [
        {
          "output_type": "execute_result",
          "data": {
            "text/plain": [
              "[array([1, 2, 3]), array([4, 5]), array([ 6,  7, 99, 99])]"
            ]
          },
          "metadata": {},
          "execution_count": 38
        }
      ]
    },
    {
      "cell_type": "code",
      "source": [
        "a,b,c=np.split(a,[3,5])"
      ],
      "metadata": {
        "id": "-rw1FHOZQ0mC"
      },
      "execution_count": 39,
      "outputs": []
    },
    {
      "cell_type": "code",
      "source": [
        "print(a)\n",
        "print(b)\n",
        "print(c)"
      ],
      "metadata": {
        "colab": {
          "base_uri": "https://localhost:8080/"
        },
        "id": "cmUhxncBREj_",
        "outputId": "f96b539d-3c9c-4651-fa02-9ef53a9ce5b1"
      },
      "execution_count": 40,
      "outputs": [
        {
          "output_type": "stream",
          "name": "stdout",
          "text": [
            "[1 2 3]\n",
            "[4 5]\n",
            "[ 6  7 99 99]\n"
          ]
        }
      ]
    },
    {
      "cell_type": "code",
      "source": [
        "z=np.arange(16).reshape(4,4)"
      ],
      "metadata": {
        "id": "BDKcm2vFROLs"
      },
      "execution_count": 41,
      "outputs": []
    },
    {
      "cell_type": "code",
      "source": [
        "z"
      ],
      "metadata": {
        "colab": {
          "base_uri": "https://localhost:8080/"
        },
        "id": "qRuzA7vYReqN",
        "outputId": "6c1e7243-3e1b-4685-e56c-af29a1fb24a5"
      },
      "execution_count": 42,
      "outputs": [
        {
          "output_type": "execute_result",
          "data": {
            "text/plain": [
              "array([[ 0,  1,  2,  3],\n",
              "       [ 4,  5,  6,  7],\n",
              "       [ 8,  9, 10, 11],\n",
              "       [12, 13, 14, 15]])"
            ]
          },
          "metadata": {},
          "execution_count": 42
        }
      ]
    },
    {
      "cell_type": "code",
      "source": [
        "np.vsplit(z,[2])#vsplit:satırı ortadan ikiye böler"
      ],
      "metadata": {
        "colab": {
          "base_uri": "https://localhost:8080/"
        },
        "id": "I2ZhWGiFRjdy",
        "outputId": "9b59da45-9ed2-4879-b415-c3bb31681fed"
      },
      "execution_count": 43,
      "outputs": [
        {
          "output_type": "execute_result",
          "data": {
            "text/plain": [
              "[array([[0, 1, 2, 3],\n",
              "        [4, 5, 6, 7]]),\n",
              " array([[ 8,  9, 10, 11],\n",
              "        [12, 13, 14, 15]])]"
            ]
          },
          "metadata": {},
          "execution_count": 43
        }
      ]
    },
    {
      "cell_type": "code",
      "source": [
        "a,b=np.vsplit(z,[2])\n",
        "print(a)\n",
        "print(b)"
      ],
      "metadata": {
        "colab": {
          "base_uri": "https://localhost:8080/"
        },
        "id": "O6bkFOzvRyzA",
        "outputId": "30f1830b-2b35-4281-d3fc-594a857ae0a5"
      },
      "execution_count": 44,
      "outputs": [
        {
          "output_type": "stream",
          "name": "stdout",
          "text": [
            "[[0 1 2 3]\n",
            " [4 5 6 7]]\n",
            "[[ 8  9 10 11]\n",
            " [12 13 14 15]]\n"
          ]
        }
      ]
    },
    {
      "cell_type": "code",
      "source": [
        "a,b=np.hsplit(z,[2]) #hsplit:sütun bazında bölme yapar"
      ],
      "metadata": {
        "id": "l04JgglfR9Zs"
      },
      "execution_count": 45,
      "outputs": []
    },
    {
      "cell_type": "code",
      "source": [
        "print(a)\n",
        "print(b)"
      ],
      "metadata": {
        "colab": {
          "base_uri": "https://localhost:8080/"
        },
        "id": "eD_L_GRNSKwg",
        "outputId": "24b842ab-e1a9-44c8-87c2-b8adf4d24554"
      },
      "execution_count": 46,
      "outputs": [
        {
          "output_type": "stream",
          "name": "stdout",
          "text": [
            "[[ 0  1]\n",
            " [ 4  5]\n",
            " [ 8  9]\n",
            " [12 13]]\n",
            "[[ 2  3]\n",
            " [ 6  7]\n",
            " [10 11]\n",
            " [14 15]]\n"
          ]
        }
      ]
    },
    {
      "cell_type": "code",
      "source": [
        "n=np.array([2,6,8,1,4])\n"
      ],
      "metadata": {
        "id": "2hw8jR5tSPNl"
      },
      "execution_count": 47,
      "outputs": []
    },
    {
      "cell_type": "code",
      "source": [
        "np.sort(n)#arrayi sıralamak için\n"
      ],
      "metadata": {
        "colab": {
          "base_uri": "https://localhost:8080/"
        },
        "id": "Wrs92ewQStew",
        "outputId": "e1b80af0-37dc-40b7-aafb-5246d52233f1"
      },
      "execution_count": 48,
      "outputs": [
        {
          "output_type": "execute_result",
          "data": {
            "text/plain": [
              "array([1, 2, 4, 6, 8])"
            ]
          },
          "metadata": {},
          "execution_count": 48
        }
      ]
    },
    {
      "cell_type": "code",
      "source": [
        "x=n.sort() #numpy içinde çağırmadığı zaman tipini değiştirmiş oluyor.\n",
        "x\n",
        "type(x)"
      ],
      "metadata": {
        "colab": {
          "base_uri": "https://localhost:8080/"
        },
        "id": "70qVNqqASvbg",
        "outputId": "a957c630-6ae3-44e8-d805-d0d6c8d21329"
      },
      "execution_count": 49,
      "outputs": [
        {
          "output_type": "execute_result",
          "data": {
            "text/plain": [
              "NoneType"
            ]
          },
          "metadata": {},
          "execution_count": 49
        }
      ]
    },
    {
      "cell_type": "code",
      "source": [
        "m=np.random.normal(20,5,(3,3))"
      ],
      "metadata": {
        "id": "-_4Z1i6nTAsn"
      },
      "execution_count": 50,
      "outputs": []
    },
    {
      "cell_type": "code",
      "source": [
        "m"
      ],
      "metadata": {
        "colab": {
          "base_uri": "https://localhost:8080/"
        },
        "id": "drpNIYFiT7KE",
        "outputId": "47677981-f0b1-461a-a46a-523063251063"
      },
      "execution_count": 51,
      "outputs": [
        {
          "output_type": "execute_result",
          "data": {
            "text/plain": [
              "array([[21.42425026, 14.55682269, 23.35791182],\n",
              "       [13.00867979, 18.94438048, 15.68466775],\n",
              "       [19.12371474, 21.44749727, 16.99002141]])"
            ]
          },
          "metadata": {},
          "execution_count": 51
        }
      ]
    },
    {
      "cell_type": "code",
      "source": [
        "np.sort(m,axis=1)"
      ],
      "metadata": {
        "colab": {
          "base_uri": "https://localhost:8080/"
        },
        "id": "QYSd6zlWTxuq",
        "outputId": "9938760d-c094-4eb5-d6e3-3b0cd66c90c6"
      },
      "execution_count": 52,
      "outputs": [
        {
          "output_type": "execute_result",
          "data": {
            "text/plain": [
              "array([[14.55682269, 21.42425026, 23.35791182],\n",
              "       [13.00867979, 15.68466775, 18.94438048],\n",
              "       [16.99002141, 19.12371474, 21.44749727]])"
            ]
          },
          "metadata": {},
          "execution_count": 52
        }
      ]
    },
    {
      "cell_type": "code",
      "source": [
        "np.sort(m,axis=0)"
      ],
      "metadata": {
        "colab": {
          "base_uri": "https://localhost:8080/"
        },
        "id": "FiUJI4rGUGOy",
        "outputId": "52dc79fd-cc34-4bc7-b7f4-1c5f9e843a26"
      },
      "execution_count": 53,
      "outputs": [
        {
          "output_type": "execute_result",
          "data": {
            "text/plain": [
              "array([[13.00867979, 14.55682269, 15.68466775],\n",
              "       [19.12371474, 18.94438048, 16.99002141],\n",
              "       [21.42425026, 21.44749727, 23.35791182]])"
            ]
          },
          "metadata": {},
          "execution_count": 53
        }
      ]
    },
    {
      "cell_type": "code",
      "source": [
        "y=np.random.randint(10,size=5)"
      ],
      "metadata": {
        "id": "jp3ZooFU8XSZ"
      },
      "execution_count": 54,
      "outputs": []
    },
    {
      "cell_type": "code",
      "source": [
        "y"
      ],
      "metadata": {
        "colab": {
          "base_uri": "https://localhost:8080/"
        },
        "id": "MKJWWrvh8292",
        "outputId": "bc463202-349c-4a65-dbbf-5da7de71530a"
      },
      "execution_count": 55,
      "outputs": [
        {
          "output_type": "execute_result",
          "data": {
            "text/plain": [
              "array([0, 3, 8, 9, 5])"
            ]
          },
          "metadata": {},
          "execution_count": 55
        }
      ]
    },
    {
      "cell_type": "code",
      "source": [
        "y[0]"
      ],
      "metadata": {
        "id": "g1b3cvdOUJoN",
        "colab": {
          "base_uri": "https://localhost:8080/"
        },
        "outputId": "b9dae24c-1dc0-4131-9a04-ae36819fcd17"
      },
      "execution_count": 56,
      "outputs": [
        {
          "output_type": "execute_result",
          "data": {
            "text/plain": [
              "np.int64(0)"
            ]
          },
          "metadata": {},
          "execution_count": 56
        }
      ]
    },
    {
      "cell_type": "code",
      "source": [
        "x=np.random.randint(10,size=(5,5))\n",
        "\n"
      ],
      "metadata": {
        "id": "AD-WHSwW86C8"
      },
      "execution_count": 57,
      "outputs": []
    },
    {
      "cell_type": "code",
      "source": [
        "x"
      ],
      "metadata": {
        "colab": {
          "base_uri": "https://localhost:8080/"
        },
        "id": "qardcVe_9Gtn",
        "outputId": "dda89e68-c42d-4458-e49f-5886556114f2"
      },
      "execution_count": 58,
      "outputs": [
        {
          "output_type": "execute_result",
          "data": {
            "text/plain": [
              "array([[2, 3, 5, 3, 6],\n",
              "       [3, 2, 8, 7, 8],\n",
              "       [9, 6, 4, 9, 1],\n",
              "       [2, 5, 5, 8, 5],\n",
              "       [8, 6, 3, 5, 5]])"
            ]
          },
          "metadata": {},
          "execution_count": 58
        }
      ]
    },
    {
      "cell_type": "code",
      "source": [
        "x[0,1]"
      ],
      "metadata": {
        "colab": {
          "base_uri": "https://localhost:8080/"
        },
        "id": "C5Rt51RO9Dh7",
        "outputId": "5effda09-6079-459d-f231-cbfa78d93ea8"
      },
      "execution_count": 59,
      "outputs": [
        {
          "output_type": "execute_result",
          "data": {
            "text/plain": [
              "np.int64(3)"
            ]
          },
          "metadata": {},
          "execution_count": 59
        }
      ]
    },
    {
      "cell_type": "code",
      "source": [
        "x[0,3]=23"
      ],
      "metadata": {
        "id": "1cvOINtW9UIs"
      },
      "execution_count": 60,
      "outputs": []
    },
    {
      "cell_type": "code",
      "source": [
        "x"
      ],
      "metadata": {
        "colab": {
          "base_uri": "https://localhost:8080/"
        },
        "id": "iJ13T2uy9fh1",
        "outputId": "09fb9db2-4391-4994-fb95-f0c87b31fdda"
      },
      "execution_count": 61,
      "outputs": [
        {
          "output_type": "execute_result",
          "data": {
            "text/plain": [
              "array([[ 2,  3,  5, 23,  6],\n",
              "       [ 3,  2,  8,  7,  8],\n",
              "       [ 9,  6,  4,  9,  1],\n",
              "       [ 2,  5,  5,  8,  5],\n",
              "       [ 8,  6,  3,  5,  5]])"
            ]
          },
          "metadata": {},
          "execution_count": 61
        }
      ]
    },
    {
      "cell_type": "code",
      "source": [
        "x[1,4]=2.2\n",
        "#eğer bir arrayimin içinde bir tane bile farklı türden bir veri varsa bu farklı türden veriye göre bütün numpy arrayini düzenler\n",
        "#ama eğer dışardan bir müdaheke yaparsam gelen farklı tipteki veriyi içerdeki verilere göre düzenler"
      ],
      "metadata": {
        "id": "qLeBJM7x9hL3"
      },
      "execution_count": 62,
      "outputs": []
    },
    {
      "cell_type": "code",
      "source": [
        "x"
      ],
      "metadata": {
        "colab": {
          "base_uri": "https://localhost:8080/"
        },
        "id": "SnafDMoO9vUz",
        "outputId": "9318a86b-221c-4530-8974-3bf1871b43a0"
      },
      "execution_count": 63,
      "outputs": [
        {
          "output_type": "execute_result",
          "data": {
            "text/plain": [
              "array([[ 2,  3,  5, 23,  6],\n",
              "       [ 3,  2,  8,  7,  2],\n",
              "       [ 9,  6,  4,  9,  1],\n",
              "       [ 2,  5,  5,  8,  5],\n",
              "       [ 8,  6,  3,  5,  5]])"
            ]
          },
          "metadata": {},
          "execution_count": 63
        }
      ]
    },
    {
      "cell_type": "code",
      "source": [
        "x[:,0]#bütün satırları seç bu satırlar arasından ilk sütünu getir"
      ],
      "metadata": {
        "colab": {
          "base_uri": "https://localhost:8080/"
        },
        "id": "ODR2Z3WK-VHo",
        "outputId": "371c0418-5fb9-477b-b0df-f770808af3af"
      },
      "execution_count": 64,
      "outputs": [
        {
          "output_type": "execute_result",
          "data": {
            "text/plain": [
              "array([2, 3, 9, 2, 8])"
            ]
          },
          "metadata": {},
          "execution_count": 64
        }
      ]
    },
    {
      "cell_type": "code",
      "source": [
        "x[0,:]#0'ncı satır ve tüm sütünlar"
      ],
      "metadata": {
        "colab": {
          "base_uri": "https://localhost:8080/"
        },
        "id": "5YR9d0Wl_g6M",
        "outputId": "6b2b1511-c13d-4948-de2d-3977aac69139"
      },
      "execution_count": 65,
      "outputs": [
        {
          "output_type": "execute_result",
          "data": {
            "text/plain": [
              "array([ 2,  3,  5, 23,  6])"
            ]
          },
          "metadata": {},
          "execution_count": 65
        }
      ]
    },
    {
      "cell_type": "code",
      "source": [
        "x[1,:]"
      ],
      "metadata": {
        "colab": {
          "base_uri": "https://localhost:8080/"
        },
        "id": "fPGBDsnZ_pp4",
        "outputId": "ea4696b8-d4a0-4125-8ffb-e0bed76db0c5"
      },
      "execution_count": 66,
      "outputs": [
        {
          "output_type": "execute_result",
          "data": {
            "text/plain": [
              "array([3, 2, 8, 7, 2])"
            ]
          },
          "metadata": {},
          "execution_count": 66
        }
      ]
    },
    {
      "cell_type": "code",
      "source": [
        "x[0:2,0:3]"
      ],
      "metadata": {
        "colab": {
          "base_uri": "https://localhost:8080/"
        },
        "id": "RmNFzdz5-i44",
        "outputId": "3380f598-1766-494c-f1cb-e98e64e46fde"
      },
      "execution_count": 67,
      "outputs": [
        {
          "output_type": "execute_result",
          "data": {
            "text/plain": [
              "array([[2, 3, 5],\n",
              "       [3, 2, 8]])"
            ]
          },
          "metadata": {},
          "execution_count": 67
        }
      ]
    },
    {
      "cell_type": "code",
      "source": [
        "x[:,:2]"
      ],
      "metadata": {
        "colab": {
          "base_uri": "https://localhost:8080/"
        },
        "id": "NIwiiPAWAEkd",
        "outputId": "2ef4b3e4-da7b-42b3-e705-65931d3addbd"
      },
      "execution_count": 68,
      "outputs": [
        {
          "output_type": "execute_result",
          "data": {
            "text/plain": [
              "array([[2, 3],\n",
              "       [3, 2],\n",
              "       [9, 6],\n",
              "       [2, 5],\n",
              "       [8, 6]])"
            ]
          },
          "metadata": {},
          "execution_count": 68
        }
      ]
    },
    {
      "cell_type": "code",
      "source": [
        "z=np.random.randint(10,size=(5,5))"
      ],
      "metadata": {
        "id": "31DCjVrEAWBb"
      },
      "execution_count": 69,
      "outputs": []
    },
    {
      "cell_type": "code",
      "source": [
        "z"
      ],
      "metadata": {
        "colab": {
          "base_uri": "https://localhost:8080/"
        },
        "id": "c_K6RCFfA_wk",
        "outputId": "bf3f6726-17ac-4946-e555-82363bbf136d"
      },
      "execution_count": 70,
      "outputs": [
        {
          "output_type": "execute_result",
          "data": {
            "text/plain": [
              "array([[8, 6, 1, 5, 7],\n",
              "       [4, 2, 0, 2, 2],\n",
              "       [5, 9, 6, 5, 2],\n",
              "       [8, 6, 0, 4, 0],\n",
              "       [5, 6, 0, 2, 0]])"
            ]
          },
          "metadata": {},
          "execution_count": 70
        }
      ]
    },
    {
      "cell_type": "code",
      "source": [
        "alt_a=z[0:3,0:2]"
      ],
      "metadata": {
        "id": "hF2Wd2B9BB-F"
      },
      "execution_count": 71,
      "outputs": []
    },
    {
      "cell_type": "code",
      "source": [
        "alt_a"
      ],
      "metadata": {
        "colab": {
          "base_uri": "https://localhost:8080/"
        },
        "id": "lUtyHBqsBJmN",
        "outputId": "ce9f1991-2c9f-4dae-eb24-df8a1a2d2ffa"
      },
      "execution_count": 72,
      "outputs": [
        {
          "output_type": "execute_result",
          "data": {
            "text/plain": [
              "array([[8, 6],\n",
              "       [4, 2],\n",
              "       [5, 9]])"
            ]
          },
          "metadata": {},
          "execution_count": 72
        }
      ]
    },
    {
      "cell_type": "code",
      "source": [
        "alt_a[0,0]=123\n",
        "alt_a[1,1]=200"
      ],
      "metadata": {
        "id": "BDOCfJFbBN6P"
      },
      "execution_count": 73,
      "outputs": []
    },
    {
      "cell_type": "code",
      "source": [
        "alt_a"
      ],
      "metadata": {
        "colab": {
          "base_uri": "https://localhost:8080/"
        },
        "id": "IJb_HhjMBiS7",
        "outputId": "8845d6d3-3b36-41da-f0ca-58603428c138"
      },
      "execution_count": 74,
      "outputs": [
        {
          "output_type": "execute_result",
          "data": {
            "text/plain": [
              "array([[123,   6],\n",
              "       [  4, 200],\n",
              "       [  5,   9]])"
            ]
          },
          "metadata": {},
          "execution_count": 74
        }
      ]
    },
    {
      "cell_type": "code",
      "source": [
        "z #alt kümede yaptığım bir işlem orijinal arrayimi de değiştiriyor\n",
        "#bunu engellemek için copy metodunu kullanıyoruz."
      ],
      "metadata": {
        "colab": {
          "base_uri": "https://localhost:8080/"
        },
        "id": "dK80VMfPBr1C",
        "outputId": "87d30398-b383-4244-9531-b82ee5188dd5"
      },
      "execution_count": 75,
      "outputs": [
        {
          "output_type": "execute_result",
          "data": {
            "text/plain": [
              "array([[123,   6,   1,   5,   7],\n",
              "       [  4, 200,   0,   2,   2],\n",
              "       [  5,   9,   6,   5,   2],\n",
              "       [  8,   6,   0,   4,   0],\n",
              "       [  5,   6,   0,   2,   0]])"
            ]
          },
          "metadata": {},
          "execution_count": 75
        }
      ]
    },
    {
      "cell_type": "code",
      "source": [
        "r=np.random.randint(9,size=(3,3))\n"
      ],
      "metadata": {
        "id": "Q_YfUufRB20I"
      },
      "execution_count": 76,
      "outputs": []
    },
    {
      "cell_type": "code",
      "source": [
        "r"
      ],
      "metadata": {
        "colab": {
          "base_uri": "https://localhost:8080/"
        },
        "id": "vGfqozaDCHXp",
        "outputId": "f833dead-987c-43bb-e084-a178dfc623cb"
      },
      "execution_count": 77,
      "outputs": [
        {
          "output_type": "execute_result",
          "data": {
            "text/plain": [
              "array([[1, 5, 0],\n",
              "       [6, 0, 8],\n",
              "       [6, 1, 2]])"
            ]
          },
          "metadata": {},
          "execution_count": 77
        }
      ]
    },
    {
      "cell_type": "code",
      "source": [
        "alt_b=r[0:3,0:2].copy()"
      ],
      "metadata": {
        "id": "GDmM-oY8CIoP"
      },
      "execution_count": 78,
      "outputs": []
    },
    {
      "cell_type": "code",
      "source": [
        "alt_b[0,0]=123"
      ],
      "metadata": {
        "id": "76hW9Ro0CO36"
      },
      "execution_count": 79,
      "outputs": []
    },
    {
      "cell_type": "code",
      "source": [
        "alt_b"
      ],
      "metadata": {
        "colab": {
          "base_uri": "https://localhost:8080/"
        },
        "id": "OwMnKo9pCfwI",
        "outputId": "57145f21-e155-46cd-fb46-9c9e392afe63"
      },
      "execution_count": 80,
      "outputs": [
        {
          "output_type": "execute_result",
          "data": {
            "text/plain": [
              "array([[123,   5],\n",
              "       [  6,   0],\n",
              "       [  6,   1]])"
            ]
          },
          "metadata": {},
          "execution_count": 80
        }
      ]
    },
    {
      "cell_type": "code",
      "source": [
        "r"
      ],
      "metadata": {
        "colab": {
          "base_uri": "https://localhost:8080/"
        },
        "id": "1EpS3lrNCSHV",
        "outputId": "784c63a3-d4e3-4c13-86b6-d6c6e8bc836b"
      },
      "execution_count": 81,
      "outputs": [
        {
          "output_type": "execute_result",
          "data": {
            "text/plain": [
              "array([[1, 5, 0],\n",
              "       [6, 0, 8],\n",
              "       [6, 1, 2]])"
            ]
          },
          "metadata": {},
          "execution_count": 81
        }
      ]
    },
    {
      "cell_type": "markdown",
      "source": [
        "**FANCY INDEX İLE ELEMANLARA  ERİŞMEK**"
      ],
      "metadata": {
        "id": "VzV6b6y0JtDL"
      }
    },
    {
      "cell_type": "code",
      "source": [
        "#tek boyutta fancy"
      ],
      "metadata": {
        "id": "5V3unL68K7fN"
      },
      "execution_count": null,
      "outputs": []
    },
    {
      "cell_type": "code",
      "source": [
        "v=np.arange(0,30,3)"
      ],
      "metadata": {
        "id": "wcRtFANsJ0ri"
      },
      "execution_count": 82,
      "outputs": []
    },
    {
      "cell_type": "code",
      "source": [
        "[v[1],v[2],v[3]]"
      ],
      "metadata": {
        "colab": {
          "base_uri": "https://localhost:8080/"
        },
        "id": "B7s9ghRJJ_p_",
        "outputId": "8124db79-4b01-4b36-ba2c-98a583f54247"
      },
      "execution_count": 83,
      "outputs": [
        {
          "output_type": "execute_result",
          "data": {
            "text/plain": [
              "[np.int64(3), np.int64(6), np.int64(9)]"
            ]
          },
          "metadata": {},
          "execution_count": 83
        }
      ]
    },
    {
      "cell_type": "code",
      "source": [
        "al_getir=[1,3,5]"
      ],
      "metadata": {
        "id": "LvU7dvo5KsNx"
      },
      "execution_count": 84,
      "outputs": []
    },
    {
      "cell_type": "code",
      "source": [
        "v[al_getir]"
      ],
      "metadata": {
        "colab": {
          "base_uri": "https://localhost:8080/"
        },
        "id": "QN4VMIynKxRg",
        "outputId": "1b091fb4-0185-4b32-be5b-4ca39e7f78dc"
      },
      "execution_count": 85,
      "outputs": [
        {
          "output_type": "execute_result",
          "data": {
            "text/plain": [
              "array([ 3,  9, 15])"
            ]
          },
          "metadata": {},
          "execution_count": 85
        }
      ]
    },
    {
      "cell_type": "code",
      "source": [
        "n=np.random.randint(9,size=(3,3))\n",
        "print(n)\n",
        "satir=np.array([0,1])\n",
        "sutun=np.array([1,2])\n"
      ],
      "metadata": {
        "colab": {
          "base_uri": "https://localhost:8080/"
        },
        "id": "f2oyy1r9K__z",
        "outputId": "1e44cd86-7063-4d76-99dd-932215e0f903"
      },
      "execution_count": 89,
      "outputs": [
        {
          "output_type": "stream",
          "name": "stdout",
          "text": [
            "[[3 1 7]\n",
            " [3 3 4]\n",
            " [0 5 1]]\n"
          ]
        },
        {
          "output_type": "execute_result",
          "data": {
            "text/plain": [
              "array([1, 4])"
            ]
          },
          "metadata": {},
          "execution_count": 89
        }
      ]
    },
    {
      "cell_type": "code",
      "source": [
        "n[satir,sutun]"
      ],
      "metadata": {
        "colab": {
          "base_uri": "https://localhost:8080/"
        },
        "id": "8mmh_vv3Lx_6",
        "outputId": "144ff7fb-de0c-4594-80e0-f0ef3e0cd6a6"
      },
      "execution_count": 90,
      "outputs": [
        {
          "output_type": "execute_result",
          "data": {
            "text/plain": [
              "array([1, 4])"
            ]
          },
          "metadata": {},
          "execution_count": 90
        }
      ]
    },
    {
      "cell_type": "code",
      "source": [
        "n"
      ],
      "metadata": {
        "colab": {
          "base_uri": "https://localhost:8080/"
        },
        "id": "VEDjrcivMIsQ",
        "outputId": "31e2022a-0d16-49e5-d23e-64c6c0d975e4"
      },
      "execution_count": 91,
      "outputs": [
        {
          "output_type": "execute_result",
          "data": {
            "text/plain": [
              "array([[3, 1, 7],\n",
              "       [3, 3, 4],\n",
              "       [0, 5, 1]])"
            ]
          },
          "metadata": {},
          "execution_count": 91
        }
      ]
    },
    {
      "cell_type": "code",
      "source": [
        "n[0:,sutun] # 0'ncı satırı alır.1 ve 2. sütünları seçer"
      ],
      "metadata": {
        "colab": {
          "base_uri": "https://localhost:8080/"
        },
        "id": "lfc9wxU4MgFH",
        "outputId": "4687c821-f347-4899-cd6e-16eadbcf9873"
      },
      "execution_count": 92,
      "outputs": [
        {
          "output_type": "execute_result",
          "data": {
            "text/plain": [
              "array([[1, 7],\n",
              "       [3, 4],\n",
              "       [5, 1]])"
            ]
          },
          "metadata": {},
          "execution_count": 92
        }
      ]
    },
    {
      "cell_type": "code",
      "source": [
        "n[0:,[1,2]]"
      ],
      "metadata": {
        "colab": {
          "base_uri": "https://localhost:8080/"
        },
        "id": "sW1fjaWXMwsC",
        "outputId": "e948ed59-e2ea-422e-c7e8-cd743d29f2ae"
      },
      "execution_count": 93,
      "outputs": [
        {
          "output_type": "execute_result",
          "data": {
            "text/plain": [
              "array([[1, 7],\n",
              "       [3, 4],\n",
              "       [5, 1]])"
            ]
          },
          "metadata": {},
          "execution_count": 93
        }
      ]
    },
    {
      "cell_type": "markdown",
      "source": [
        "**KOŞULLU ELEMAN İŞLEMLERİ**"
      ],
      "metadata": {
        "id": "6x-ZJKauNAZW"
      }
    },
    {
      "cell_type": "code",
      "source": [
        "x=np.arange(0,5,1)"
      ],
      "metadata": {
        "id": "vbFwaOzlNC7b"
      },
      "execution_count": 94,
      "outputs": []
    },
    {
      "cell_type": "code",
      "source": [
        "x"
      ],
      "metadata": {
        "colab": {
          "base_uri": "https://localhost:8080/"
        },
        "id": "ESPEKwNANUhH",
        "outputId": "5ac2586e-d582-4784-ae19-4fe87b2bac56"
      },
      "execution_count": 95,
      "outputs": [
        {
          "output_type": "execute_result",
          "data": {
            "text/plain": [
              "array([0, 1, 2, 3, 4])"
            ]
          },
          "metadata": {},
          "execution_count": 95
        }
      ]
    },
    {
      "cell_type": "code",
      "source": [
        "x<3"
      ],
      "metadata": {
        "colab": {
          "base_uri": "https://localhost:8080/"
        },
        "id": "TBNHxN3mNXoy",
        "outputId": "3eb5f924-8329-4428-c09e-af86a10bf7a9"
      },
      "execution_count": 96,
      "outputs": [
        {
          "output_type": "execute_result",
          "data": {
            "text/plain": [
              "array([ True,  True,  True, False, False])"
            ]
          },
          "metadata": {},
          "execution_count": 96
        }
      ]
    },
    {
      "cell_type": "code",
      "source": [
        "x[x<3]"
      ],
      "metadata": {
        "colab": {
          "base_uri": "https://localhost:8080/"
        },
        "id": "bkeSsZxKNd1U",
        "outputId": "7192ec84-529d-4f9d-cbe3-41d9a8f15d0e"
      },
      "execution_count": 97,
      "outputs": [
        {
          "output_type": "execute_result",
          "data": {
            "text/plain": [
              "array([0, 1, 2])"
            ]
          },
          "metadata": {},
          "execution_count": 97
        }
      ]
    },
    {
      "cell_type": "code",
      "source": [
        "x*2"
      ],
      "metadata": {
        "colab": {
          "base_uri": "https://localhost:8080/"
        },
        "id": "ojb2YrcoNpmx",
        "outputId": "42661d04-68b5-4cd4-e756-4131408c3093"
      },
      "execution_count": 98,
      "outputs": [
        {
          "output_type": "execute_result",
          "data": {
            "text/plain": [
              "array([0, 2, 4, 6, 8])"
            ]
          },
          "metadata": {},
          "execution_count": 98
        }
      ]
    },
    {
      "cell_type": "code",
      "source": [
        "x/3"
      ],
      "metadata": {
        "colab": {
          "base_uri": "https://localhost:8080/"
        },
        "id": "NPyiY_TiN2aF",
        "outputId": "5110ab2b-f99d-43c4-8026-651f70d01507"
      },
      "execution_count": 99,
      "outputs": [
        {
          "output_type": "execute_result",
          "data": {
            "text/plain": [
              "array([0.        , 0.33333333, 0.66666667, 1.        , 1.33333333])"
            ]
          },
          "metadata": {},
          "execution_count": 99
        }
      ]
    },
    {
      "cell_type": "code",
      "source": [
        "#ufunc numpy da array üzerinde yaptığım amtematiksel işlemleri tanımlamak için kullanılır."
      ],
      "metadata": {
        "id": "Q-CGIdQqN4fx"
      },
      "execution_count": null,
      "outputs": []
    },
    {
      "cell_type": "code",
      "source": [
        "np.subtract(x,1)"
      ],
      "metadata": {
        "colab": {
          "base_uri": "https://localhost:8080/"
        },
        "id": "GOQC_0L6UQs0",
        "outputId": "b20daa46-1686-4d7b-87ed-93802794b605"
      },
      "execution_count": 100,
      "outputs": [
        {
          "output_type": "execute_result",
          "data": {
            "text/plain": [
              "array([-1,  0,  1,  2,  3])"
            ]
          },
          "metadata": {},
          "execution_count": 100
        }
      ]
    },
    {
      "cell_type": "code",
      "source": [
        "np.add(x,2)"
      ],
      "metadata": {
        "colab": {
          "base_uri": "https://localhost:8080/"
        },
        "id": "144OeyiRUU1X",
        "outputId": "73899cf0-c55c-45b0-b21c-ae29ac0ba7d8"
      },
      "execution_count": 101,
      "outputs": [
        {
          "output_type": "execute_result",
          "data": {
            "text/plain": [
              "array([2, 3, 4, 5, 6])"
            ]
          },
          "metadata": {},
          "execution_count": 101
        }
      ]
    },
    {
      "cell_type": "code",
      "source": [
        "np.multiply(x,3)"
      ],
      "metadata": {
        "colab": {
          "base_uri": "https://localhost:8080/"
        },
        "id": "8tAHhNgVUXSS",
        "outputId": "4cde6a78-6b6f-4be3-b4a9-703530316bf0"
      },
      "execution_count": 102,
      "outputs": [
        {
          "output_type": "execute_result",
          "data": {
            "text/plain": [
              "array([ 0,  3,  6,  9, 12])"
            ]
          },
          "metadata": {},
          "execution_count": 102
        }
      ]
    },
    {
      "cell_type": "code",
      "source": [
        "np.divide(x,2)"
      ],
      "metadata": {
        "colab": {
          "base_uri": "https://localhost:8080/"
        },
        "id": "3nCFy2kiUb2T",
        "outputId": "7517b0c9-1a09-45c8-c838-474f7ade8c3c"
      },
      "execution_count": 103,
      "outputs": [
        {
          "output_type": "execute_result",
          "data": {
            "text/plain": [
              "array([0. , 0.5, 1. , 1.5, 2. ])"
            ]
          },
          "metadata": {},
          "execution_count": 103
        }
      ]
    },
    {
      "cell_type": "code",
      "source": [
        "np.power(x,3)"
      ],
      "metadata": {
        "colab": {
          "base_uri": "https://localhost:8080/"
        },
        "id": "uV24NPGTUfQE",
        "outputId": "7e370a70-81d5-475b-9a16-728e2fbfc32f"
      },
      "execution_count": 104,
      "outputs": [
        {
          "output_type": "execute_result",
          "data": {
            "text/plain": [
              "array([ 0,  1,  8, 27, 64])"
            ]
          },
          "metadata": {},
          "execution_count": 104
        }
      ]
    },
    {
      "cell_type": "code",
      "source": [
        "np.mod(x,3)"
      ],
      "metadata": {
        "colab": {
          "base_uri": "https://localhost:8080/"
        },
        "id": "_FeYTbE4UjZH",
        "outputId": "5f6f1f7d-4907-47ee-88a7-946e034d2cfb"
      },
      "execution_count": 105,
      "outputs": [
        {
          "output_type": "execute_result",
          "data": {
            "text/plain": [
              "array([0, 1, 2, 0, 1])"
            ]
          },
          "metadata": {},
          "execution_count": 105
        }
      ]
    },
    {
      "cell_type": "code",
      "source": [
        "np.absolute(np.array([-4]))"
      ],
      "metadata": {
        "colab": {
          "base_uri": "https://localhost:8080/"
        },
        "id": "CWgQXFXkUryv",
        "outputId": "a3efc8c6-df05-45c6-ef5d-6e00e6dc718d"
      },
      "execution_count": 106,
      "outputs": [
        {
          "output_type": "execute_result",
          "data": {
            "text/plain": [
              "array([4])"
            ]
          },
          "metadata": {},
          "execution_count": 106
        }
      ]
    },
    {
      "cell_type": "code",
      "source": [
        "np.sin(360)"
      ],
      "metadata": {
        "colab": {
          "base_uri": "https://localhost:8080/"
        },
        "id": "JdeTuobNUzEX",
        "outputId": "ec3bf7d7-2925-4b95-f191-d960fa8f8581"
      },
      "execution_count": 107,
      "outputs": [
        {
          "output_type": "execute_result",
          "data": {
            "text/plain": [
              "np.float64(0.9589157234143065)"
            ]
          },
          "metadata": {},
          "execution_count": 107
        }
      ]
    },
    {
      "cell_type": "code",
      "source": [
        "np.log(v)"
      ],
      "metadata": {
        "colab": {
          "base_uri": "https://localhost:8080/"
        },
        "id": "OsfhELRwU2qG",
        "outputId": "e37383b6-17a9-456e-bad7-fe10e079fff2"
      },
      "execution_count": 108,
      "outputs": [
        {
          "output_type": "stream",
          "name": "stderr",
          "text": [
            "/tmp/ipython-input-957696640.py:1: RuntimeWarning: divide by zero encountered in log\n",
            "  np.log(v)\n"
          ]
        },
        {
          "output_type": "execute_result",
          "data": {
            "text/plain": [
              "array([      -inf, 1.09861229, 1.79175947, 2.19722458, 2.48490665,\n",
              "       2.7080502 , 2.89037176, 3.04452244, 3.17805383, 3.29583687])"
            ]
          },
          "metadata": {},
          "execution_count": 108
        }
      ]
    },
    {
      "cell_type": "code",
      "source": [
        "np.log2(v)"
      ],
      "metadata": {
        "colab": {
          "base_uri": "https://localhost:8080/"
        },
        "id": "vuD1W8doU8iW",
        "outputId": "bb601178-08d6-4824-8f22-a4b68ebb8a51"
      },
      "execution_count": 109,
      "outputs": [
        {
          "output_type": "stream",
          "name": "stderr",
          "text": [
            "/tmp/ipython-input-3375032256.py:1: RuntimeWarning: divide by zero encountered in log2\n",
            "  np.log2(v)\n"
          ]
        },
        {
          "output_type": "execute_result",
          "data": {
            "text/plain": [
              "array([      -inf, 1.5849625 , 2.5849625 , 3.169925  , 3.5849625 ,\n",
              "       3.9068906 , 4.169925  , 4.39231742, 4.5849625 , 4.7548875 ])"
            ]
          },
          "metadata": {},
          "execution_count": 109
        }
      ]
    },
    {
      "cell_type": "code",
      "source": [
        "?np #numoy ın ana dökümantasyonuna erişmek için."
      ],
      "metadata": {
        "id": "ISeKJIS0U_me"
      },
      "execution_count": 110,
      "outputs": []
    },
    {
      "cell_type": "markdown",
      "source": [
        "5*x0+x1=12\n",
        "********\n",
        "x0+3*x1=10\n"
      ],
      "metadata": {
        "id": "aWZE8-G3Vjna"
      }
    },
    {
      "cell_type": "code",
      "source": [
        "a=np.array([[5,1],[1,3]])\n",
        "b=np.array([12,10])"
      ],
      "metadata": {
        "id": "3wigOFBxV4Wk"
      },
      "execution_count": 112,
      "outputs": []
    },
    {
      "cell_type": "code",
      "source": [
        "a"
      ],
      "metadata": {
        "colab": {
          "base_uri": "https://localhost:8080/"
        },
        "id": "_qysSZ6WV0nA",
        "outputId": "094e62de-5575-45a8-c830-491fcd452e1b"
      },
      "execution_count": 113,
      "outputs": [
        {
          "output_type": "execute_result",
          "data": {
            "text/plain": [
              "array([[5, 1],\n",
              "       [1, 3]])"
            ]
          },
          "metadata": {},
          "execution_count": 113
        }
      ]
    },
    {
      "cell_type": "code",
      "source": [
        "b"
      ],
      "metadata": {
        "colab": {
          "base_uri": "https://localhost:8080/"
        },
        "id": "WgU42mdkWR9c",
        "outputId": "660be9dd-3dc7-4dfb-c143-8decd7061f12"
      },
      "execution_count": 114,
      "outputs": [
        {
          "output_type": "execute_result",
          "data": {
            "text/plain": [
              "array([12, 10])"
            ]
          },
          "metadata": {},
          "execution_count": 114
        }
      ]
    },
    {
      "cell_type": "code",
      "source": [
        "x=np.linalg.solve(a,b)"
      ],
      "metadata": {
        "id": "M5sQw86RWSx2"
      },
      "execution_count": 115,
      "outputs": []
    },
    {
      "cell_type": "code",
      "source": [
        "x"
      ],
      "metadata": {
        "colab": {
          "base_uri": "https://localhost:8080/"
        },
        "id": "lTAUS1I7WeNm",
        "outputId": "c84c11a3-a43a-40ae-af8b-93d66b038458"
      },
      "execution_count": 116,
      "outputs": [
        {
          "output_type": "execute_result",
          "data": {
            "text/plain": [
              "array([1.85714286, 2.71428571])"
            ]
          },
          "metadata": {},
          "execution_count": 116
        }
      ]
    }
  ]
}