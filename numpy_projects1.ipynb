{
  "nbformat": 4,
  "nbformat_minor": 0,
  "metadata": {
    "colab": {
      "provenance": []
    },
    "kernelspec": {
      "name": "python3",
      "display_name": "Python 3"
    },
    "language_info": {
      "name": "python"
    }
  },
  "cells": [
    {
      "cell_type": "code",
      "source": [
        "import random\n",
        "salary_list=[random.randint(10, 10000) for _ in range(100)]\n",
        "'''\n",
        "BURADA DİKKAT EDİLMESİ GEREKEN NOKTALAR:\n",
        "for i  in range(100) dediğimiz zaman biz bu i değerini kullanacağız\n",
        "fakat i yerine _kullandığımızda bu değeri kullanmıycaz döngü sadece tekrar edecek\n",
        "'''"
      ],
      "metadata": {
        "colab": {
          "base_uri": "https://localhost:8080/",
          "height": 53
        },
        "id": "57k4cDnOwtvE",
        "outputId": "3aa431ff-8968-413f-98dc-df2df1dba615"
      },
      "execution_count": 11,
      "outputs": [
        {
          "output_type": "execute_result",
          "data": {
            "text/plain": [
              "'\\nBURADA DİKKAT EDİLMESİ GEREKEN NOKTALAR:\\nfor i  in range(100) dediğimiz zaman biz bu i değerini kullanacağız\\nfakat i yerine _kullandığımızda bu değeri kullanmıycaz döngü sadece tekrar edecek\\n'"
            ],
            "application/vnd.google.colaboratory.intrinsic+json": {
              "type": "string"
            }
          },
          "metadata": {},
          "execution_count": 11
        }
      ]
    },
    {
      "cell_type": "code",
      "source": [
        "salary_list"
      ],
      "metadata": {
        "colab": {
          "base_uri": "https://localhost:8080/"
        },
        "id": "YLD913jW1k9e",
        "outputId": "e1ac1f9f-e1c4-48fe-9122-53bfb47459ca"
      },
      "execution_count": 12,
      "outputs": [
        {
          "output_type": "execute_result",
          "data": {
            "text/plain": [
              "[3860,\n",
              " 3720,\n",
              " 119,\n",
              " 3067,\n",
              " 3788,\n",
              " 7340,\n",
              " 826,\n",
              " 9374,\n",
              " 2476,\n",
              " 8072,\n",
              " 8605,\n",
              " 8947,\n",
              " 3613,\n",
              " 3239,\n",
              " 2552,\n",
              " 1034,\n",
              " 8415,\n",
              " 3445,\n",
              " 2904,\n",
              " 2593,\n",
              " 103,\n",
              " 5597,\n",
              " 8358,\n",
              " 8142,\n",
              " 9882,\n",
              " 289,\n",
              " 2654,\n",
              " 6393,\n",
              " 5087,\n",
              " 7143,\n",
              " 5335,\n",
              " 558,\n",
              " 6562,\n",
              " 9324,\n",
              " 3473,\n",
              " 3545,\n",
              " 3748,\n",
              " 4437,\n",
              " 2953,\n",
              " 4848,\n",
              " 2757,\n",
              " 8672,\n",
              " 2064,\n",
              " 9924,\n",
              " 442,\n",
              " 2503,\n",
              " 7955,\n",
              " 9900,\n",
              " 1240,\n",
              " 9765,\n",
              " 9266,\n",
              " 2048,\n",
              " 5506,\n",
              " 8159,\n",
              " 4283,\n",
              " 583,\n",
              " 7623,\n",
              " 4844,\n",
              " 3990,\n",
              " 4558,\n",
              " 6355,\n",
              " 7059,\n",
              " 7390,\n",
              " 4996,\n",
              " 8838,\n",
              " 4163,\n",
              " 5312,\n",
              " 7501,\n",
              " 2706,\n",
              " 7903,\n",
              " 9001,\n",
              " 9793,\n",
              " 9427,\n",
              " 7692,\n",
              " 3096,\n",
              " 6024,\n",
              " 7688,\n",
              " 4840,\n",
              " 6691,\n",
              " 8312,\n",
              " 9414,\n",
              " 1132,\n",
              " 6079,\n",
              " 3218,\n",
              " 9301,\n",
              " 1733,\n",
              " 8163,\n",
              " 441,\n",
              " 432,\n",
              " 5901,\n",
              " 8299,\n",
              " 2749,\n",
              " 884,\n",
              " 5033,\n",
              " 1168,\n",
              " 1161,\n",
              " 409,\n",
              " 3943,\n",
              " 636,\n",
              " 7071]"
            ]
          },
          "metadata": {},
          "execution_count": 12
        }
      ]
    },
    {
      "cell_type": "code",
      "source": [
        "import statistics\n"
      ],
      "metadata": {
        "id": "1VpaFQXt1oQT"
      },
      "execution_count": 13,
      "outputs": []
    },
    {
      "cell_type": "code",
      "source": [
        "%%timeit\n",
        "statistics.mean(salary_list)#pythonun statistics modülü mean ile salary_listin içindekilerin ortalamasını alıyor."
      ],
      "metadata": {
        "colab": {
          "base_uri": "https://localhost:8080/"
        },
        "id": "ZrBA4NaV2kTb",
        "outputId": "c9e5a526-06bf-44be-c399-fcc63bd9d975"
      },
      "execution_count": 14,
      "outputs": [
        {
          "output_type": "stream",
          "name": "stdout",
          "text": [
            "30.5 µs ± 3.31 µs per loop (mean ± std. dev. of 7 runs, 10000 loops each)\n"
          ]
        }
      ]
    },
    {
      "cell_type": "code",
      "source": [
        "import numpy as np"
      ],
      "metadata": {
        "id": "pb0yaJzb3YOO"
      },
      "execution_count": 16,
      "outputs": []
    },
    {
      "cell_type": "code",
      "source": [
        "%%timeit\n",
        "np.mean(salary_list) #numpy kütüphanesi sayesinde daha hızlı işlem yapmış  oluruz."
      ],
      "metadata": {
        "colab": {
          "base_uri": "https://localhost:8080/"
        },
        "id": "8dPMwx2L31x4",
        "outputId": "634c4d31-1581-47bf-db7b-ed50c087bef4"
      },
      "execution_count": 17,
      "outputs": [
        {
          "output_type": "stream",
          "name": "stdout",
          "text": [
            "15.2 µs ± 3.43 µs per loop (mean ± std. dev. of 7 runs, 100000 loops each)\n"
          ]
        }
      ]
    },
    {
      "cell_type": "code",
      "source": [
        "%%timeit\n",
        "statistics.median(salary_list)"
      ],
      "metadata": {
        "colab": {
          "base_uri": "https://localhost:8080/"
        },
        "id": "Hqo-aCbX4reD",
        "outputId": "b5833bf2-0774-4133-ba57-3dc025e98fbb"
      },
      "execution_count": 18,
      "outputs": [
        {
          "output_type": "stream",
          "name": "stdout",
          "text": [
            "3.62 µs ± 103 ns per loop (mean ± std. dev. of 7 runs, 100000 loops each)\n"
          ]
        }
      ]
    },
    {
      "cell_type": "code",
      "source": [
        "%%timeit\n",
        "ort=np.median(salary_list)"
      ],
      "metadata": {
        "colab": {
          "base_uri": "https://localhost:8080/"
        },
        "id": "nGVmvaFk45-3",
        "outputId": "5f6f07bb-42fa-4eeb-9c67-22a3cf86b5cc"
      },
      "execution_count": 23,
      "outputs": [
        {
          "output_type": "stream",
          "name": "stdout",
          "text": [
            "36.5 µs ± 1.54 µs per loop (mean ± std. dev. of 7 runs, 10000 loops each)\n"
          ]
        }
      ]
    },
    {
      "cell_type": "markdown",
      "source": [
        "![Ekran görüntüsü 2025-07-06 163818.png](data:image/png;base64,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)"
      ],
      "metadata": {
        "id": "TO-xjVD29aIL"
      }
    },
    {
      "cell_type": "code",
      "source": [
        "#job titles\n",
        "job_titles=np.array([\"data anlyst\",\"data scientist\",\"data engineer\",\"machine learning engineer\"])\n",
        "\n",
        "#base salaries\n",
        "base_salaries=np.array([60000,80000,75000,100000,np.nan])\n",
        "'''\n",
        "np.nan ifadesi ne için kullanılır?\n",
        "Burada son kişi için herhangi bir değer olmadığını gösterir\n",
        "Oyüzden none ifadesi diziyi object türüne çevirir ve üstünde işlem yapmamı engeller\n",
        "np.nan kullanarak bu kısmı floata çevirir numpy kütüphanesinde np.nan kullandıysam toplama,ortalama gibi ifadelerin np.nanmeam kullanılması gereklidir.\n",
        "Tüm değerler float olarak saklanır çünkü integer bir ifadede np.nan saklanmaz.\n",
        "'''\n",
        "\n",
        "#bonus rates\n",
        "bonus_rates=np.array([.05,.1,.08,.12,np.nan])\n"
      ],
      "metadata": {
        "id": "6B_buMB26Ka4"
      },
      "execution_count": 32,
      "outputs": []
    },
    {
      "cell_type": "code",
      "source": [
        "total_salaries=base_salaries+(base_salaries*bonus_rates)\n",
        "total_salaries"
      ],
      "metadata": {
        "colab": {
          "base_uri": "https://localhost:8080/"
        },
        "id": "V13kpfyb-uJo",
        "outputId": "4e062ba3-1f15-461e-8e92-e2de3800d9b5"
      },
      "execution_count": 31,
      "outputs": [
        {
          "output_type": "execute_result",
          "data": {
            "text/plain": [
              "array([ 63000.,  88000.,  81000., 112000.,     nan])"
            ]
          },
          "metadata": {},
          "execution_count": 31
        }
      ]
    },
    {
      "cell_type": "code",
      "source": [
        "np.nanmean(total_salaries)"
      ],
      "metadata": {
        "colab": {
          "base_uri": "https://localhost:8080/"
        },
        "id": "O9moFyJI_Ejk",
        "outputId": "53ab668e-5516-4859-825f-bc837b981a67"
      },
      "execution_count": 33,
      "outputs": [
        {
          "output_type": "execute_result",
          "data": {
            "text/plain": [
              "np.float64(86000.0)"
            ]
          },
          "metadata": {},
          "execution_count": 33
        }
      ]
    },
    {
      "cell_type": "code",
      "source": [],
      "metadata": {
        "id": "a77v4cFE_StB"
      },
      "execution_count": null,
      "outputs": []
    }
  ]
}